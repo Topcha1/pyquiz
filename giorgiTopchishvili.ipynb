{
 "cells": [
  {
   "cell_type": "code",
   "execution_count": null,
   "metadata": {},
   "outputs": [],
   "source": [
    "import pandas as pd\n"
   ]
  },
  {
   "cell_type": "code",
   "execution_count": null,
   "metadata": {},
   "outputs": [],
   "source": [
    "data = pd.read_csv('Earthquakes_database.csv')"
   ]
  },
  {
   "cell_type": "code",
   "execution_count": null,
   "metadata": {},
   "outputs": [],
   "source": [
    "data.columns"
   ]
  },
  {
   "cell_type": "code",
   "execution_count": null,
   "metadata": {},
   "outputs": [],
   "source": [
    "# Check for missing values in the 'Date' column\n",
    "missing_dates = data['Date'].isnull()"
   ]
  },
  {
   "cell_type": "code",
   "execution_count": null,
   "metadata": {},
   "outputs": [],
   "source": [
    "# Assuming 'data' is your DataFrame\n",
    "data['Date'] = pd.to_datetime(data['Date'], errors='coerce')\n",
    "\n",
    "# Extract 'Year', 'Month', and 'Day' from the 'Date' column\n",
    "data['Year'] = data['Date'].dt.year\n",
    "data['Month'] = data['Date'].dt.month\n",
    "data['Day'] = data['Date'].dt.day\n",
    "\n",
    "# Drop rows with missing values in the 'Date' components (if needed)\n",
    "data = data.dropna(subset=['Year', 'Month', 'Day'])\n",
    "\n",
    "# Convert 'Year', 'Month', 'Day' columns to integers\n",
    "data['Year'] = data['Year'].astype(int)\n",
    "data['Month'] = data['Month'].astype(int)\n",
    "data['Day'] = data['Day'].astype(int)\n",
    "\n",
    "# Drop the original 'Date' column if needed\n",
    "data.drop(columns=['Date'], inplace=True)\n",
    "\n",
    "# Save the modified DataFrame to a CSV file\n",
    "data.to_csv('Earthquakes_database.csv', index=False)\n"
   ]
  },
  {
   "cell_type": "code",
   "execution_count": null,
   "metadata": {},
   "outputs": [],
   "source": [
    "import pandas as pd\n",
    "\n",
    "# Assuming 'data' is your DataFrame\n",
    "data['Magnitude_Category'] = pd.cut(data['Magnitude'], bins=[0, 3, 5, float('inf')], labels=['Low Magnitude', 'Medium Magnitude', 'High Magnitude'], include_lowest=True)\n",
    "\n",
    "# Save the modified DataFrame to a CSV file\n",
    "data.to_csv('Earthquakes_database.csv', index=False)\n"
   ]
  },
  {
   "cell_type": "code",
   "execution_count": null,
   "metadata": {},
   "outputs": [],
   "source": [
    "columns_to_melt = ['Magnitude', 'Magnitude Type']\n",
    "\n",
    "# Using melt to reshape the data\n",
    "melted_data = pd.melt(data, id_vars=data.columns.difference(columns_to_melt), value_vars=columns_to_melt, var_name='Magnitude_Info', value_name='Magnitude_Value')\n",
    "\n",
    "print(melted_data.head())"
   ]
  },
  {
   "cell_type": "code",
   "execution_count": null,
   "metadata": {},
   "outputs": [],
   "source": [
    "pivot_table_data = pd.pivot_table(data, values='Type', index='Magnitude', aggfunc='count')\n",
    "\n",
    "print(pivot_table_data)"
   ]
  },
  {
   "cell_type": "code",
   "execution_count": null,
   "metadata": {},
   "outputs": [],
   "source": [
    "import matplotlib.pyplot as plt\n",
    "plt.figure(figsize=(10, 6))\n",
    "data['Type'].value_counts().plot(kind='bar')\n",
    "plt.title('Count of Different Earthquake Types')\n",
    "plt.xlabel('Earthquake Type')\n",
    "plt.ylabel('Count')\n",
    "plt.xticks(rotation=45)\n",
    "plt.tight_layout()\n",
    "plt.show()"
   ]
  },
  {
   "cell_type": "code",
   "execution_count": null,
   "metadata": {},
   "outputs": [],
   "source": [
    "plt.figure(figsize=(10, 6))\n",
    "plt.scatter(data['Magnitude'], data['Depth'], alpha=0.5)\n",
    "plt.title('Relationship between Magnitude and Depth of Earthquakes')\n",
    "plt.xlabel('Magnitude')\n",
    "plt.ylabel('Depth')\n",
    "plt.grid(True)\n",
    "plt.tight_layout()\n",
    "plt.show()"
   ]
  },
  {
   "cell_type": "code",
   "execution_count": null,
   "metadata": {},
   "outputs": [],
   "source": [
    "import seaborn as sns\n",
    "import matplotlib.pyplot as plt\n",
    "\n",
    "plt.figure(figsize=(8, 8))\n",
    "sns.countplot(data=data, x='Status', order=data['Status'].value_counts().index, palette='viridis')\n",
    "plt.title('Distribution of Earthquake Statuses')\n",
    "plt.xlabel('Status')\n",
    "plt.ylabel('Count')\n",
    "plt.xticks(rotation=45, ha='right')\n",
    "plt.tight_layout()\n",
    "plt.show()\n"
   ]
  },
  {
   "cell_type": "code",
   "execution_count": null,
   "metadata": {},
   "outputs": [],
   "source": [
    "import numpy as np\n",
    "\n",
    "index = np.arange(len(data))\n",
    "\n",
    "# Creating a line chart for earthquake magnitudes using the arbitrary index\n",
    "plt.figure(figsize=(10, 6))\n",
    "plt.plot(index, data['Magnitude'], marker='o', linestyle='-')\n",
    "plt.title('Line Chart of Earthquake Magnitudes')\n",
    "plt.xlabel('Index')\n",
    "plt.ylabel('Magnitude')\n",
    "plt.grid(True)\n",
    "plt.tight_layout()\n",
    "plt.show()"
   ]
  },
  {
   "cell_type": "code",
   "execution_count": null,
   "metadata": {},
   "outputs": [],
   "source": [
    "np.random.seed(42)\n",
    "date_range = pd.date_range(start='2023-01-01', periods=365, freq='D')\n",
    "data = pd.DataFrame({\n",
    "    'Magnitude': np.random.uniform(low=3.0, high=8.0, size=len(date_range))\n",
    "}, index=date_range)\n",
    "\n",
    "weekly_data = data.resample('W').mean()\n",
    "\n",
    "# Plotting the resampled data\n",
    "plt.figure(figsize=(10, 6))\n",
    "plt.plot(weekly_data.index, weekly_data['Magnitude'], marker='o', linestyle='-')\n",
    "plt.title('Weekly Resampled Mean Magnitudes of Earthquakes')\n",
    "plt.xlabel('Date')\n",
    "plt.ylabel('Mean Magnitude')\n",
    "plt.grid(True)\n",
    "plt.tight_layout()\n",
    "plt.show()\n"
   ]
  }
 ],
 "metadata": {
  "language_info": {
   "name": "python"
  }
 },
 "nbformat": 4,
 "nbformat_minor": 2
}
